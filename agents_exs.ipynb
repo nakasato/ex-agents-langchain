{
 "cells": [
  {
   "cell_type": "code",
   "execution_count": null,
   "metadata": {},
   "outputs": [],
   "source": [
    "!pip install google-search-results\n",
    "!pip install langchain\n",
    "!pip install openai"
   ]
  },
  {
   "cell_type": "code",
   "execution_count": null,
   "metadata": {
    "id": "Mb8ubQp_Io_X"
   },
   "outputs": [],
   "source": [
    "from langchain.llms import OpenAI\n",
    "from langchain.agents import load_tools, initialize_agent\n",
    "from langchain.llms import OpenAI\n",
    "\n",
    "OPENAI_KEY = 'XXXXXXXXXXXXXXXXXXXXXXXXX'\n",
    "SERPAPI_KEY = 'XXXXXXXXXXXXXXXXXXXXXXXXX'"
   ]
  },
  {
   "cell_type": "code",
   "execution_count": null,
   "metadata": {
    "id": "0ZyF1Ul_IpCL"
   },
   "outputs": [],
   "source": [
    "llm = OpenAI(temperature=0.9, openai_api_key=OPENAI_KEY)"
   ]
  },
  {
   "cell_type": "code",
   "execution_count": null,
   "metadata": {
    "id": "LdwtFiqLTW87"
   },
   "outputs": [],
   "source": [
    "tools = load_tools(['serpapi', 'llm-math'], llm=llm, serpapi_api_key=SERPAPI_KEY)\n",
    "agent = initialize_agent(tools, llm, agent='zero-shot-react-description', verbose=True)"
   ]
  },
  {
   "cell_type": "code",
   "execution_count": null,
   "metadata": {
    "colab": {
     "base_uri": "https://localhost:8080/",
     "height": 295
    },
    "executionInfo": {
     "elapsed": 9748,
     "status": "ok",
     "timestamp": 1678165517584,
     "user": {
      "displayName": "Flávio Nakasato",
      "userId": "18423265122371058536"
     },
     "user_tz": 180
    },
    "id": "cvCKtoAcctof",
    "outputId": "d7510c24-f462-4a2f-8492-c835da39ff47"
   },
   "outputs": [
    {
     "name": "stdout",
     "output_type": "stream",
     "text": [
      "\n",
      "\n",
      "\u001b[1m> Entering new AgentExecutor chain...\u001b[0m\n",
      "\u001b[32;1m\u001b[1;3m I will need to use search to find out this information.\n",
      "Action: Search\n",
      "Action Input: 'marinha naufragou navio em pernambuco 2021 toxicos'\u001b[0m\n",
      "Observation: \u001b[36;1m\u001b[1;3mContrariando ambientalistas, Marinha do Brasil afunda ex-porta-aviões com material tóxico · Folha de Pernambuco.\u001b[0m\n",
      "Thought:\u001b[32;1m\u001b[1;3m This looks promising, I should check it out.\n",
      "Action: Search\n",
      "Action Input: 'folha de pernambuco marinha naufragou navio em pernambuco 2021 toxicos'\u001b[0m\n",
      "Observation: \u001b[36;1m\u001b[1;3mContrariando ambientalistas, Marinha do Brasil afunda ex-porta-aviões com material tóxico. Navio \"São Paulo\" carregava nove toneladas de amianto ...\u001b[0m\n",
      "Thought:\u001b[32;1m\u001b[1;3m This looks like the information I'm looking for.\n",
      "Final Answer: O navio carregava nove toneladas de amianto.\u001b[0m\n",
      "\n",
      "\u001b[1m> Finished chain.\u001b[0m\n"
     ]
    },
    {
     "data": {
      "application/vnd.google.colaboratory.intrinsic+json": {
       "type": "string"
      },
      "text/plain": [
       "'O navio carregava nove toneladas de amianto.'"
      ]
     },
     "execution_count": 21,
     "metadata": {},
     "output_type": "execute_result"
    }
   ],
   "source": [
    "agent.run('Quais materiais tóxicos estavam presentes no navio que a Marinha naufragou no mar de Pernambuco este ano?')"
   ]
  },
  {
   "cell_type": "code",
   "execution_count": null,
   "metadata": {
    "colab": {
     "base_uri": "https://localhost:8080/",
     "height": 243
    },
    "executionInfo": {
     "elapsed": 6119,
     "status": "ok",
     "timestamp": 1678165579531,
     "user": {
      "displayName": "Flávio Nakasato",
      "userId": "18423265122371058536"
     },
     "user_tz": 180
    },
    "id": "gS1Y4B4STUx3",
    "outputId": "3106bc69-e475-4bdc-dd38-dace4616314a"
   },
   "outputs": [
    {
     "name": "stdout",
     "output_type": "stream",
     "text": [
      "\n",
      "\n",
      "\u001b[1m> Entering new AgentExecutor chain...\u001b[0m\n",
      "\u001b[32;1m\u001b[1;3m I need to use a mathematical tool to answer this question.\n",
      "Action: Calculator\n",
      "Action Input: integral from 0 to 10 of x^2\u001b[0m\n",
      "Observation: \u001b[33;1m\u001b[1;3mAnswer: 333.33333333333326\n",
      "\u001b[0m\n",
      "Thought:\u001b[32;1m\u001b[1;3m I now know the final answer.\n",
      "Final Answer: A integral de 0 a 10 de x ao quadrado é 333.33333333333326.\u001b[0m\n",
      "\n",
      "\u001b[1m> Finished chain.\u001b[0m\n"
     ]
    },
    {
     "data": {
      "application/vnd.google.colaboratory.intrinsic+json": {
       "type": "string"
      },
      "text/plain": [
       "'A integral de 0 a 10 de x ao quadrado é 333.33333333333326.'"
      ]
     },
     "execution_count": 22,
     "metadata": {},
     "output_type": "execute_result"
    }
   ],
   "source": [
    "agent.run('Qual o valor da integral de 0 a 10 de x ao quadrado?')"
   ]
  },
  {
   "cell_type": "code",
   "execution_count": null,
   "metadata": {
    "colab": {
     "base_uri": "https://localhost:8080/",
     "height": 226
    },
    "executionInfo": {
     "elapsed": 4568,
     "status": "ok",
     "timestamp": 1678477261744,
     "user": {
      "displayName": "Flávio Nakasato",
      "userId": "18423265122371058536"
     },
     "user_tz": 180
    },
    "id": "1dGwLEXQCgRK",
    "outputId": "5160db4b-cc26-4910-9a1b-405cc9f7b0b2"
   },
   "outputs": [
    {
     "name": "stdout",
     "output_type": "stream",
     "text": [
      "\n",
      "\n",
      "\u001b[1m> Entering new AgentExecutor chain...\u001b[0m\n",
      "\u001b[32;1m\u001b[1;3m I need to use math to figure out the answer\n",
      "Action: Calculator\n",
      "Action Input: 5 hours * 2 carros\u001b[0m\n",
      "Observation: \u001b[33;1m\u001b[1;3mAnswer: 10 hours of car travel.\u001b[0m\n",
      "Thought:\u001b[32;1m\u001b[1;3m I now know the final answer\n",
      "Final Answer: 2 carros demorarão 10 horas para percorrer a distância entre São Paulo e o Rio de Janeiro.\u001b[0m\n",
      "\n",
      "\u001b[1m> Finished chain.\u001b[0m\n"
     ]
    },
    {
     "data": {
      "application/vnd.google.colaboratory.intrinsic+json": {
       "type": "string"
      },
      "text/plain": [
       "'2 carros demorarão 10 horas para percorrer a distância entre São Paulo e o Rio de Janeiro.'"
      ]
     },
     "execution_count": 6,
     "metadata": {},
     "output_type": "execute_result"
    }
   ],
   "source": [
    "agent.run('Um carro demora 5 horas para percorrer a distância entre São Paulo e o Rio de Janeiro. Quanto tempo demoram 2 carros para percorrer a mesma distância?')"
   ]
  }
 ],
 "metadata": {
  "accelerator": "GPU",
  "colab": {
   "authorship_tag": "ABX9TyM9PF8XsVwATCDYrDqxm83f",
   "provenance": []
  },
  "gpuClass": "standard",
  "kernelspec": {
   "display_name": "Python 3 (ipykernel)",
   "language": "python",
   "name": "python3"
  },
  "language_info": {
   "codemirror_mode": {
    "name": "ipython",
    "version": 3
   },
   "file_extension": ".py",
   "mimetype": "text/x-python",
   "name": "python",
   "nbconvert_exporter": "python",
   "pygments_lexer": "ipython3",
   "version": "3.9.7"
  }
 },
 "nbformat": 4,
 "nbformat_minor": 1
}
